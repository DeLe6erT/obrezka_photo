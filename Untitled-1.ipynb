{
 "cells": [
  {
   "cell_type": "code",
   "execution_count": 2,
   "metadata": {},
   "outputs": [
    {
     "name": "stdout",
     "output_type": "stream",
     "text": [
      "Requirement already satisfied: Pillow in c:\\users\\bogdan\\onedrive\\рабочий стол\\всё всё\\всё\\learning code\\.venv\\lib\\site-packages (10.1.0)\n",
      "Note: you may need to restart the kernel to use updated packages.\n"
     ]
    }
   ],
   "source": [
    "pip install --upgrade Pillow"
   ]
  },
  {
   "cell_type": "code",
   "execution_count": 10,
   "metadata": {},
   "outputs": [],
   "source": [
    "from PIL import Image\n",
    " \n",
    "im = Image.open(\"C:/Users/Bogdan/OneDrive/Рабочий стол/всё всё/всё/Learning Code/Python/pix_gen/examples/robocop.jpg\")\n",
    "#im.show()\n",
    "im_crop = im.crop((100, 75, 300, 150))\n",
    "im_crop.save(\"C:/Users/Bogdan/OneDrive/Рабочий стол/всё всё/всё/Learning Code/Python/pix_gen/examples/robocop.jpg\", quality=95)"
   ]
  }
 ],
 "metadata": {
  "kernelspec": {
   "display_name": ".venv",
   "language": "python",
   "name": "python3"
  },
  "language_info": {
   "codemirror_mode": {
    "name": "ipython",
    "version": 3
   },
   "file_extension": ".py",
   "mimetype": "text/x-python",
   "name": "python",
   "nbconvert_exporter": "python",
   "pygments_lexer": "ipython3",
   "version": "3.8.0"
  }
 },
 "nbformat": 4,
 "nbformat_minor": 2
}
